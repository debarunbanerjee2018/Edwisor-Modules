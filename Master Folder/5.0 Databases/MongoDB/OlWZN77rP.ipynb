{
 "cells": [
  {
   "cell_type": "code",
   "execution_count": 3,
   "metadata": {},
   "outputs": [
    {
     "name": "stdout",
     "output_type": "stream",
     "text": [
      "Collecting pymongo\n",
      "  Downloading https://files.pythonhosted.org/packages/f2/0a/ab90b9f28a9e06f48f1653ae46d391001cdf72ba8cf620e4dd2d6292f10e/pymongo-3.7.2-cp27-cp27m-win_amd64.whl (312kB)\n",
      "Installing collected packages: pymongo\n",
      "Successfully installed pymongo-3.7.2\n"
     ]
    }
   ],
   "source": [
    "!pip install pymongo"
   ]
  },
  {
   "cell_type": "code",
   "execution_count": null,
   "metadata": {},
   "outputs": [],
   "source": [
    "#importing libraries"
   ]
  },
  {
   "cell_type": "code",
   "execution_count": 4,
   "metadata": {},
   "outputs": [],
   "source": [
    "import pandas as pd\n",
    "import pymongo\n",
    "import json"
   ]
  },
  {
   "cell_type": "code",
   "execution_count": null,
   "metadata": {},
   "outputs": [],
   "source": [
    "#importing os library and setting working directory"
   ]
  },
  {
   "cell_type": "code",
   "execution_count": 6,
   "metadata": {},
   "outputs": [],
   "source": [
    "import os\n",
    "os.chdir(\"Z:\\Edwiser\")"
   ]
  },
  {
   "cell_type": "code",
   "execution_count": 14,
   "metadata": {},
   "outputs": [],
   "source": [
    "def import_content(filepath): #creating a defenition to importing csv to MOngodb\n",
    "    mng_client = pymongo.MongoClient('localhost', 27017) #connecting with MOngoDB client using default port 27017\n",
    "    mng_db = mng_client['test.names'] #I have already created a database where I have collection and i will store this csv\n",
    "    collection_name = 'debarun' #debarun is the name of the collection where I will save the csv data\n",
    "    db_cm = mng_db[collection_name] # passing the name of the collection to mongoclient\n",
    "    df = pd.read_csv(\"Post.csv\") # reading the csv using panda \n",
    "    records_ = df.to_dict(orient = 'records') #to_dict will set the format of the data to be store in mongodb.\n",
    "    result = db.debarun.insert_many(records_ ) #pusing the data to detabase"
   ]
  }
 ],
 "metadata": {
  "kernelspec": {
   "display_name": "Python 2",
   "language": "python",
   "name": "python2"
  },
  "language_info": {
   "codemirror_mode": {
    "name": "ipython",
    "version": 2
   },
   "file_extension": ".py",
   "mimetype": "text/x-python",
   "name": "python",
   "nbconvert_exporter": "python",
   "pygments_lexer": "ipython2",
   "version": "2.7.15"
  }
 },
 "nbformat": 4,
 "nbformat_minor": 2
}
